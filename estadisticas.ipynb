{
  "nbformat": 4,
  "nbformat_minor": 0,
  "metadata": {
    "colab": {
      "provenance": []
    },
    "kernelspec": {
      "name": "python3",
      "display_name": "Python 3"
    },
    "language_info": {
      "name": "python"
    }
  },
  "cells": [
    {
      "cell_type": "code",
      "execution_count": null,
      "metadata": {
        "colab": {
          "base_uri": "https://localhost:8080/"
        },
        "id": "dJ-ZBcegsGVg",
        "outputId": "be1308be-c63d-4f4f-cd38-2fbdd5532d2f"
      },
      "outputs": [
        {
          "output_type": "stream",
          "name": "stdout",
          "text": [
            "[['\"Team\"', ' \"Payroll (millions)\"', ' \"Wins\"'], ['\"Nationals\"', '     81.34', ' 98'], ['\"Reds\"', '          82.20', ' 97'], ['\"Yankees\"', '      197.96', ' 95'], ['\"Giants\"', '       117.62', ' 94'], ['\"Braves\"', '        83.31', ' 94'], ['\"Athletics\"', '     55.37', ' 94'], ['\"Rangers\"', '      120.51', ' 93'], ['\"Orioles\"', '       81.43', ' 93'], ['\"Rays\"', '          64.17', ' 90'], ['\"Angels\"', '       154.49', ' 89'], ['\"Tigers\"', '       132.30', ' 88'], ['\"Cardinals\"', '    110.30', ' 88'], ['\"Dodgers\"', '       95.14', ' 86'], ['\"White Sox\"', '     96.92', ' 85'], ['\"Brewers\"', '       97.65', ' 83'], ['\"Phillies\"', '     174.54', ' 81'], ['\"Diamondbacks\"', '  74.28', ' 81'], ['\"Pirates\"', '       63.43', ' 79'], ['\"Padres\"', '        55.24', ' 76'], ['\"Mariners\"', '      81.97', ' 75'], ['\"Mets\"', '          93.35', ' 74'], ['\"Blue Jays\"', '     75.48', ' 73'], ['\"Royals\"', '        60.91', ' 72'], ['\"Marlins\"', '      118.07', ' 69'], ['\"Red Sox\"', '      173.18', ' 69'], ['\"Indians\"', '       78.43', ' 68'], ['\"Twins\"', '         94.08', ' 66'], ['\"Rockies\"', '       78.06', ' 64'], ['\"Cubs\"', '          88.19', ' 61'], ['\"Astros\"', '        60.65', ' 55'], ['']]\n"
          ]
        }
      ],
      "source": [
        "# Pablo Esteban Reyes Herrera - A01643307\n",
        "f = open(\"mlb_teams_2012.csv\", \"rt\")\n",
        "tabla = []\n",
        "for l in f.readlines():\n",
        "  line = []\n",
        "  line = l.split(',')\n",
        "  line[-1] = line[-1].rstrip(\"\\n\")\n",
        "  tabla.append(line)\n",
        "f.close()\n",
        "print(tabla)\n",
        "f.close()"
      ]
    },
    {
      "cell_type": "code",
      "source": [
        "for line in tabla:\n",
        "  print(line)"
      ],
      "metadata": {
        "colab": {
          "base_uri": "https://localhost:8080/"
        },
        "id": "fNhHAnqFtWF8",
        "outputId": "158e499a-309b-40c3-eaec-9a7b909d5b49"
      },
      "execution_count": null,
      "outputs": [
        {
          "output_type": "stream",
          "name": "stdout",
          "text": [
            "['\"Team\"', ' \"Payroll (millions)\"', ' \"Wins\"']\n",
            "['\"Nationals\"', '     81.34', ' 98']\n",
            "['\"Reds\"', '          82.20', ' 97']\n",
            "['\"Yankees\"', '      197.96', ' 95']\n",
            "['\"Giants\"', '       117.62', ' 94']\n",
            "['\"Braves\"', '        83.31', ' 94']\n",
            "['\"Athletics\"', '     55.37', ' 94']\n",
            "['\"Rangers\"', '      120.51', ' 93']\n",
            "['\"Orioles\"', '       81.43', ' 93']\n",
            "['\"Rays\"', '          64.17', ' 90']\n",
            "['\"Angels\"', '       154.49', ' 89']\n",
            "['\"Tigers\"', '       132.30', ' 88']\n",
            "['\"Cardinals\"', '    110.30', ' 88']\n",
            "['\"Dodgers\"', '       95.14', ' 86']\n",
            "['\"White Sox\"', '     96.92', ' 85']\n",
            "['\"Brewers\"', '       97.65', ' 83']\n",
            "['\"Phillies\"', '     174.54', ' 81']\n",
            "['\"Diamondbacks\"', '  74.28', ' 81']\n",
            "['\"Pirates\"', '       63.43', ' 79']\n",
            "['\"Padres\"', '        55.24', ' 76']\n",
            "['\"Mariners\"', '      81.97', ' 75']\n",
            "['\"Mets\"', '          93.35', ' 74']\n",
            "['\"Blue Jays\"', '     75.48', ' 73']\n",
            "['\"Royals\"', '        60.91', ' 72']\n",
            "['\"Marlins\"', '      118.07', ' 69']\n",
            "['\"Red Sox\"', '      173.18', ' 69']\n",
            "['\"Indians\"', '       78.43', ' 68']\n",
            "['\"Twins\"', '         94.08', ' 66']\n",
            "['\"Rockies\"', '       78.06', ' 64']\n",
            "['\"Cubs\"', '          88.19', ' 61']\n",
            "['\"Astros\"', '        60.65', ' 55']\n",
            "['']\n"
          ]
        }
      ]
    },
    {
      "cell_type": "code",
      "source": [
        "import pandas as pd\n",
        "import numpy as np\n",
        "import random\n",
        "import matplotlib.pyplot as plt\n",
        "import seaborn as sns\n",
        "from sklearn.linear_model import LinearRegression\n",
        "from sklearn.preprocessing import PolynomialFeatures\n",
        "import sklearn.preprocessing\n",
        "from sklearn.preprocessing import StandardScaler\n",
        "from statistics import mode\n",
        "df = pd.read_csv(\"mlb_teams_2012.csv\")\n",
        "print(df.info())"
      ],
      "metadata": {
        "colab": {
          "base_uri": "https://localhost:8080/"
        },
        "id": "evRZR8rLthjD",
        "outputId": "d79054a9-3565-4a2f-b9d5-54e16253e349"
      },
      "execution_count": null,
      "outputs": [
        {
          "output_type": "stream",
          "name": "stdout",
          "text": [
            "<class 'pandas.core.frame.DataFrame'>\n",
            "RangeIndex: 30 entries, 0 to 29\n",
            "Data columns (total 3 columns):\n",
            " #   Column                 Non-Null Count  Dtype  \n",
            "---  ------                 --------------  -----  \n",
            " 0   Team                   30 non-null     object \n",
            " 1    \"Payroll (millions)\"  30 non-null     float64\n",
            " 2    \"Wins\"                30 non-null     int64  \n",
            "dtypes: float64(1), int64(1), object(1)\n",
            "memory usage: 848.0+ bytes\n",
            "None\n"
          ]
        }
      ]
    },
    {
      "cell_type": "code",
      "source": [
        "df.columns\n",
        "df.head()\n",
        "tail = df.tail()\n",
        "tail.info()\n",
        "df.describe()"
      ],
      "metadata": {
        "colab": {
          "base_uri": "https://localhost:8080/",
          "height": 479
        },
        "id": "cZjVv3BovdZi",
        "outputId": "825cb548-b2f3-47e3-861d-5426604b921a"
      },
      "execution_count": null,
      "outputs": [
        {
          "output_type": "stream",
          "name": "stdout",
          "text": [
            "<class 'pandas.core.frame.DataFrame'>\n",
            "RangeIndex: 5 entries, 25 to 29\n",
            "Data columns (total 3 columns):\n",
            " #   Column                 Non-Null Count  Dtype  \n",
            "---  ------                 --------------  -----  \n",
            " 0   Team                   5 non-null      object \n",
            " 1    \"Payroll (millions)\"  5 non-null      float64\n",
            " 2    \"Wins\"                5 non-null      int64  \n",
            "dtypes: float64(1), int64(1), object(1)\n",
            "memory usage: 252.0+ bytes\n"
          ]
        },
        {
          "output_type": "execute_result",
          "data": {
            "text/plain": [
              "        \"Payroll (millions)\"     \"Wins\"\n",
              "count              30.000000  30.000000\n",
              "mean               98.019000  81.000000\n",
              "std                36.831074  11.933725\n",
              "min                55.240000  55.000000\n",
              "25%                76.125000  72.250000\n",
              "50%                85.750000  82.000000\n",
              "75%               115.790000  92.250000\n",
              "max               197.960000  98.000000"
            ],
            "text/html": [
              "\n",
              "  <div id=\"df-11122e62-53ac-4296-a5bf-96650fd36998\" class=\"colab-df-container\">\n",
              "    <div>\n",
              "<style scoped>\n",
              "    .dataframe tbody tr th:only-of-type {\n",
              "        vertical-align: middle;\n",
              "    }\n",
              "\n",
              "    .dataframe tbody tr th {\n",
              "        vertical-align: top;\n",
              "    }\n",
              "\n",
              "    .dataframe thead th {\n",
              "        text-align: right;\n",
              "    }\n",
              "</style>\n",
              "<table border=\"1\" class=\"dataframe\">\n",
              "  <thead>\n",
              "    <tr style=\"text-align: right;\">\n",
              "      <th></th>\n",
              "      <th>\"Payroll (millions)\"</th>\n",
              "      <th>\"Wins\"</th>\n",
              "    </tr>\n",
              "  </thead>\n",
              "  <tbody>\n",
              "    <tr>\n",
              "      <th>count</th>\n",
              "      <td>30.000000</td>\n",
              "      <td>30.000000</td>\n",
              "    </tr>\n",
              "    <tr>\n",
              "      <th>mean</th>\n",
              "      <td>98.019000</td>\n",
              "      <td>81.000000</td>\n",
              "    </tr>\n",
              "    <tr>\n",
              "      <th>std</th>\n",
              "      <td>36.831074</td>\n",
              "      <td>11.933725</td>\n",
              "    </tr>\n",
              "    <tr>\n",
              "      <th>min</th>\n",
              "      <td>55.240000</td>\n",
              "      <td>55.000000</td>\n",
              "    </tr>\n",
              "    <tr>\n",
              "      <th>25%</th>\n",
              "      <td>76.125000</td>\n",
              "      <td>72.250000</td>\n",
              "    </tr>\n",
              "    <tr>\n",
              "      <th>50%</th>\n",
              "      <td>85.750000</td>\n",
              "      <td>82.000000</td>\n",
              "    </tr>\n",
              "    <tr>\n",
              "      <th>75%</th>\n",
              "      <td>115.790000</td>\n",
              "      <td>92.250000</td>\n",
              "    </tr>\n",
              "    <tr>\n",
              "      <th>max</th>\n",
              "      <td>197.960000</td>\n",
              "      <td>98.000000</td>\n",
              "    </tr>\n",
              "  </tbody>\n",
              "</table>\n",
              "</div>\n",
              "    <div class=\"colab-df-buttons\">\n",
              "\n",
              "  <div class=\"colab-df-container\">\n",
              "    <button class=\"colab-df-convert\" onclick=\"convertToInteractive('df-11122e62-53ac-4296-a5bf-96650fd36998')\"\n",
              "            title=\"Convert this dataframe to an interactive table.\"\n",
              "            style=\"display:none;\">\n",
              "\n",
              "  <svg xmlns=\"http://www.w3.org/2000/svg\" height=\"24px\" viewBox=\"0 -960 960 960\">\n",
              "    <path d=\"M120-120v-720h720v720H120Zm60-500h600v-160H180v160Zm220 220h160v-160H400v160Zm0 220h160v-160H400v160ZM180-400h160v-160H180v160Zm440 0h160v-160H620v160ZM180-180h160v-160H180v160Zm440 0h160v-160H620v160Z\"/>\n",
              "  </svg>\n",
              "    </button>\n",
              "\n",
              "  <style>\n",
              "    .colab-df-container {\n",
              "      display:flex;\n",
              "      gap: 12px;\n",
              "    }\n",
              "\n",
              "    .colab-df-convert {\n",
              "      background-color: #E8F0FE;\n",
              "      border: none;\n",
              "      border-radius: 50%;\n",
              "      cursor: pointer;\n",
              "      display: none;\n",
              "      fill: #1967D2;\n",
              "      height: 32px;\n",
              "      padding: 0 0 0 0;\n",
              "      width: 32px;\n",
              "    }\n",
              "\n",
              "    .colab-df-convert:hover {\n",
              "      background-color: #E2EBFA;\n",
              "      box-shadow: 0px 1px 2px rgba(60, 64, 67, 0.3), 0px 1px 3px 1px rgba(60, 64, 67, 0.15);\n",
              "      fill: #174EA6;\n",
              "    }\n",
              "\n",
              "    .colab-df-buttons div {\n",
              "      margin-bottom: 4px;\n",
              "    }\n",
              "\n",
              "    [theme=dark] .colab-df-convert {\n",
              "      background-color: #3B4455;\n",
              "      fill: #D2E3FC;\n",
              "    }\n",
              "\n",
              "    [theme=dark] .colab-df-convert:hover {\n",
              "      background-color: #434B5C;\n",
              "      box-shadow: 0px 1px 3px 1px rgba(0, 0, 0, 0.15);\n",
              "      filter: drop-shadow(0px 1px 2px rgba(0, 0, 0, 0.3));\n",
              "      fill: #FFFFFF;\n",
              "    }\n",
              "  </style>\n",
              "\n",
              "    <script>\n",
              "      const buttonEl =\n",
              "        document.querySelector('#df-11122e62-53ac-4296-a5bf-96650fd36998 button.colab-df-convert');\n",
              "      buttonEl.style.display =\n",
              "        google.colab.kernel.accessAllowed ? 'block' : 'none';\n",
              "\n",
              "      async function convertToInteractive(key) {\n",
              "        const element = document.querySelector('#df-11122e62-53ac-4296-a5bf-96650fd36998');\n",
              "        const dataTable =\n",
              "          await google.colab.kernel.invokeFunction('convertToInteractive',\n",
              "                                                    [key], {});\n",
              "        if (!dataTable) return;\n",
              "\n",
              "        const docLinkHtml = 'Like what you see? Visit the ' +\n",
              "          '<a target=\"_blank\" href=https://colab.research.google.com/notebooks/data_table.ipynb>data table notebook</a>'\n",
              "          + ' to learn more about interactive tables.';\n",
              "        element.innerHTML = '';\n",
              "        dataTable['output_type'] = 'display_data';\n",
              "        await google.colab.output.renderOutput(dataTable, element);\n",
              "        const docLink = document.createElement('div');\n",
              "        docLink.innerHTML = docLinkHtml;\n",
              "        element.appendChild(docLink);\n",
              "      }\n",
              "    </script>\n",
              "  </div>\n",
              "\n",
              "\n",
              "<div id=\"df-3dcd0008-3bfd-4ac4-adb3-ccda607b48ab\">\n",
              "  <button class=\"colab-df-quickchart\" onclick=\"quickchart('df-3dcd0008-3bfd-4ac4-adb3-ccda607b48ab')\"\n",
              "            title=\"Suggest charts.\"\n",
              "            style=\"display:none;\">\n",
              "\n",
              "<svg xmlns=\"http://www.w3.org/2000/svg\" height=\"24px\"viewBox=\"0 0 24 24\"\n",
              "     width=\"24px\">\n",
              "    <g>\n",
              "        <path d=\"M19 3H5c-1.1 0-2 .9-2 2v14c0 1.1.9 2 2 2h14c1.1 0 2-.9 2-2V5c0-1.1-.9-2-2-2zM9 17H7v-7h2v7zm4 0h-2V7h2v10zm4 0h-2v-4h2v4z\"/>\n",
              "    </g>\n",
              "</svg>\n",
              "  </button>\n",
              "\n",
              "<style>\n",
              "  .colab-df-quickchart {\n",
              "      --bg-color: #E8F0FE;\n",
              "      --fill-color: #1967D2;\n",
              "      --hover-bg-color: #E2EBFA;\n",
              "      --hover-fill-color: #174EA6;\n",
              "      --disabled-fill-color: #AAA;\n",
              "      --disabled-bg-color: #DDD;\n",
              "  }\n",
              "\n",
              "  [theme=dark] .colab-df-quickchart {\n",
              "      --bg-color: #3B4455;\n",
              "      --fill-color: #D2E3FC;\n",
              "      --hover-bg-color: #434B5C;\n",
              "      --hover-fill-color: #FFFFFF;\n",
              "      --disabled-bg-color: #3B4455;\n",
              "      --disabled-fill-color: #666;\n",
              "  }\n",
              "\n",
              "  .colab-df-quickchart {\n",
              "    background-color: var(--bg-color);\n",
              "    border: none;\n",
              "    border-radius: 50%;\n",
              "    cursor: pointer;\n",
              "    display: none;\n",
              "    fill: var(--fill-color);\n",
              "    height: 32px;\n",
              "    padding: 0;\n",
              "    width: 32px;\n",
              "  }\n",
              "\n",
              "  .colab-df-quickchart:hover {\n",
              "    background-color: var(--hover-bg-color);\n",
              "    box-shadow: 0 1px 2px rgba(60, 64, 67, 0.3), 0 1px 3px 1px rgba(60, 64, 67, 0.15);\n",
              "    fill: var(--button-hover-fill-color);\n",
              "  }\n",
              "\n",
              "  .colab-df-quickchart-complete:disabled,\n",
              "  .colab-df-quickchart-complete:disabled:hover {\n",
              "    background-color: var(--disabled-bg-color);\n",
              "    fill: var(--disabled-fill-color);\n",
              "    box-shadow: none;\n",
              "  }\n",
              "\n",
              "  .colab-df-spinner {\n",
              "    border: 2px solid var(--fill-color);\n",
              "    border-color: transparent;\n",
              "    border-bottom-color: var(--fill-color);\n",
              "    animation:\n",
              "      spin 1s steps(1) infinite;\n",
              "  }\n",
              "\n",
              "  @keyframes spin {\n",
              "    0% {\n",
              "      border-color: transparent;\n",
              "      border-bottom-color: var(--fill-color);\n",
              "      border-left-color: var(--fill-color);\n",
              "    }\n",
              "    20% {\n",
              "      border-color: transparent;\n",
              "      border-left-color: var(--fill-color);\n",
              "      border-top-color: var(--fill-color);\n",
              "    }\n",
              "    30% {\n",
              "      border-color: transparent;\n",
              "      border-left-color: var(--fill-color);\n",
              "      border-top-color: var(--fill-color);\n",
              "      border-right-color: var(--fill-color);\n",
              "    }\n",
              "    40% {\n",
              "      border-color: transparent;\n",
              "      border-right-color: var(--fill-color);\n",
              "      border-top-color: var(--fill-color);\n",
              "    }\n",
              "    60% {\n",
              "      border-color: transparent;\n",
              "      border-right-color: var(--fill-color);\n",
              "    }\n",
              "    80% {\n",
              "      border-color: transparent;\n",
              "      border-right-color: var(--fill-color);\n",
              "      border-bottom-color: var(--fill-color);\n",
              "    }\n",
              "    90% {\n",
              "      border-color: transparent;\n",
              "      border-bottom-color: var(--fill-color);\n",
              "    }\n",
              "  }\n",
              "</style>\n",
              "\n",
              "  <script>\n",
              "    async function quickchart(key) {\n",
              "      const quickchartButtonEl =\n",
              "        document.querySelector('#' + key + ' button');\n",
              "      quickchartButtonEl.disabled = true;  // To prevent multiple clicks.\n",
              "      quickchartButtonEl.classList.add('colab-df-spinner');\n",
              "      try {\n",
              "        const charts = await google.colab.kernel.invokeFunction(\n",
              "            'suggestCharts', [key], {});\n",
              "      } catch (error) {\n",
              "        console.error('Error during call to suggestCharts:', error);\n",
              "      }\n",
              "      quickchartButtonEl.classList.remove('colab-df-spinner');\n",
              "      quickchartButtonEl.classList.add('colab-df-quickchart-complete');\n",
              "    }\n",
              "    (() => {\n",
              "      let quickchartButtonEl =\n",
              "        document.querySelector('#df-3dcd0008-3bfd-4ac4-adb3-ccda607b48ab button');\n",
              "      quickchartButtonEl.style.display =\n",
              "        google.colab.kernel.accessAllowed ? 'block' : 'none';\n",
              "    })();\n",
              "  </script>\n",
              "</div>\n",
              "    </div>\n",
              "  </div>\n"
            ]
          },
          "metadata": {},
          "execution_count": 35
        }
      ]
    },
    {
      "cell_type": "code",
      "source": [
        "#Media recortada\n",
        "col_index = 1  # Asumiendo que 'Payroll (millions)' es la segunda columna\n",
        "valores_sorteados = sorted(df.iloc[:, col_index])\n",
        "porcentaje_recorte = 0.1\n",
        "recorte_count = int(len(valores_sorteados) * porcentaje_recorte)\n",
        "valores_recortados = valores_sorteados[recorte_count:-recorte_count]\n",
        "\n",
        "media_recortada = sum(valores_recortados) / len(valores_recortados)\n",
        "\n",
        "print(f\"La media recortada de Payroll (millions) {col_index} es: {media_recortada}\")"
      ],
      "metadata": {
        "colab": {
          "base_uri": "https://localhost:8080/"
        },
        "id": "Kw1nc94Bv5G9",
        "outputId": "9905802c-a0e7-4f16-8361-ea015183139b"
      },
      "execution_count": null,
      "outputs": [
        {
          "output_type": "stream",
          "name": "stdout",
          "text": [
            "La media recortada de Payroll (millions) 1 es: 92.65125\n"
          ]
        }
      ]
    },
    {
      "cell_type": "code",
      "source": [
        "\n",
        "col_index = 2  # Asumiendo que 'Wins' es la segunda columna\n",
        "valores_sorteados = sorted(df.iloc[:, col_index])\n",
        "porcentaje_recorte = 0.1\n",
        "recorte_count = int(len(valores_sorteados) * porcentaje_recorte)\n",
        "valores_recortados = valores_sorteados[recorte_count:-recorte_count]\n",
        "\n",
        "# Calculate the trimmed mean\n",
        "media_recortada = sum(valores_recortados) / len(valores_recortados)\n",
        "\n",
        "print(f\"TLa media recortada de Wins es: {media_recortada}\")\n"
      ],
      "metadata": {
        "colab": {
          "base_uri": "https://localhost:8080/"
        },
        "id": "aNw24ckQEp5h",
        "outputId": "5bb2e982-c45d-4a22-dad2-d8fde160654c"
      },
      "execution_count": null,
      "outputs": [
        {
          "output_type": "stream",
          "name": "stdout",
          "text": [
            "TLa media recortada de Wins es: 81.66666666666667\n"
          ]
        }
      ]
    },
    {
      "cell_type": "code",
      "source": [
        "\n",
        "pesos_iguales = [1] * len(df)\n",
        "indice_columna_victorias = 2\n",
        "media_ponderada_victorias = sum(df.iloc[:, indice_columna_victorias] * pesos_iguales) / sum(pesos_iguales)\n",
        "indice_columna_nomina = 1\n",
        "media_ponderada_nomina = sum(df.iloc[:, indice_columna_nomina] * pesos_iguales) / sum(pesos_iguales)\n",
        "print(f\"La media ponderada de 'Wins' es: {media_ponderada_victorias}\")\n",
        "print(f\"La media ponderada de 'Payroll (millions)' es: {media_ponderada_nomina}\")"
      ],
      "metadata": {
        "colab": {
          "base_uri": "https://localhost:8080/"
        },
        "id": "C0UV9uUfGBv4",
        "outputId": "51932e00-a757-449f-a0aa-ab80cc2ad677"
      },
      "execution_count": null,
      "outputs": [
        {
          "output_type": "stream",
          "name": "stdout",
          "text": [
            "La media ponderada de 'Wins' es: 81.0\n",
            "La media ponderada de 'Payroll (millions)' es: 98.019\n"
          ]
        }
      ]
    },
    {
      "cell_type": "code",
      "source": [
        "# Moda\n",
        "df.columns = df.columns.str.strip('_\"')\n",
        "df.columns = df.columns.str.strip('\"')\n",
        "mode_wins = df['Wins'].mode()\n",
        "print(\"La moda de 'Wins' is:\", mode_wins.iloc[0])"
      ],
      "metadata": {
        "colab": {
          "base_uri": "https://localhost:8080/"
        },
        "id": "8kfiWbuqI-xq",
        "outputId": "b3d57205-a325-4971-8e01-af66f4529c36"
      },
      "execution_count": null,
      "outputs": [
        {
          "output_type": "stream",
          "name": "stdout",
          "text": [
            "La moda de 'Wins' is: 94\n"
          ]
        }
      ]
    },
    {
      "cell_type": "code",
      "source": [
        "# Mediana\n",
        "median_wins = df['Wins'].median()\n",
        "\n",
        "print(\"La medianda de 'Wins' is:\", median_wins)\n"
      ],
      "metadata": {
        "colab": {
          "base_uri": "https://localhost:8080/"
        },
        "id": "xsjDRkGxJbbW",
        "outputId": "0465270b-1433-4d0f-df61-3d59137a4d92"
      },
      "execution_count": null,
      "outputs": [
        {
          "output_type": "stream",
          "name": "stdout",
          "text": [
            "La medianda de 'Wins' is: 82.0\n"
          ]
        }
      ]
    },
    {
      "cell_type": "code",
      "source": [
        "# Calculate the standard deviation of the 'Wins' column\n",
        "std_dev_wins = df['Wins'].std()\n",
        "\n",
        "# Calculate the variance of the 'Wins' column\n",
        "variance_wins = df['Wins'].var()\n",
        "\n",
        "print(\"Desviación Estándar:\", std_dev_wins)\n",
        "print(\"Varianza:\", variance_wins)"
      ],
      "metadata": {
        "colab": {
          "base_uri": "https://localhost:8080/"
        },
        "id": "vyOtHkhZJh2B",
        "outputId": "b78e3af8-67c2-494b-c969-5398d9ae8790"
      },
      "execution_count": null,
      "outputs": [
        {
          "output_type": "stream",
          "name": "stdout",
          "text": [
            "Desviación Estándar: 11.933725030494388\n",
            "Varianza: 142.41379310344828\n"
          ]
        }
      ]
    },
    {
      "cell_type": "code",
      "source": [
        "#Cuartiles\n",
        "wins_quartiles = df['Wins'].quantile([0.25, 0.5, 0.75])\n",
        "print(\"(Q1):\", wins_quartiles[0.25])\n",
        "print(\"(Q2):\", wins_quartiles[0.5])\n",
        "print(\"(Q3):\", wins_quartiles[0.75])\n"
      ],
      "metadata": {
        "colab": {
          "base_uri": "https://localhost:8080/"
        },
        "id": "k65U8DHIJ40-",
        "outputId": "9b6590b0-4a07-418c-f571-e293ad28c8f2"
      },
      "execution_count": 80,
      "outputs": [
        {
          "output_type": "stream",
          "name": "stdout",
          "text": [
            "(Q1): 72.25\n",
            "(Q2): 82.0\n",
            "(Q3): 92.25\n"
          ]
        }
      ]
    },
    {
      "cell_type": "code",
      "source": [],
      "metadata": {
        "id": "Lyx_zivjKZqg"
      },
      "execution_count": null,
      "outputs": []
    }
  ]
}